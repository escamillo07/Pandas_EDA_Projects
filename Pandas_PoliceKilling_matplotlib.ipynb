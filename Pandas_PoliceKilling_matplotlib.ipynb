{
  "cells": [
    {
      "cell_type": "markdown",
      "metadata": {
        "id": "view-in-github"
      },
      "source": [
        "<a href=\"https://colab.research.google.com/github/D1290-Ali/Data-Science/blob/main/DVwPY/Assignments/Assignment_1_student_1290.ipynb\" target=\"_parent\"><img src=\"https://colab.research.google.com/assets/colab-badge.svg\" alt=\"Open In Colab\"/></a>"
      ]
    },
    {
      "cell_type": "markdown",
      "metadata": {
        "id": "xSwVOspA2Zin"
      },
      "source": [
        "# WITH PANDAS AND MATPLOTLIB"
      ]
    },
    {
      "cell_type": "code",
      "execution_count": 28,
      "metadata": {
        "_cell_guid": "5fdcd462-5466-40f5-9992-dc31a9a174f2",
        "_uuid": "dab5021d92c7210270cec270470e4ae179a1de01",
        "id": "22qiZVq32Zir"
      },
      "outputs": [],
      "source": [
        "import numpy as np \n",
        "import pandas as pd\n",
        "import seaborn as sns\n",
        "import matplotlib.pyplot as plt\n",
        "from collections import Counter\n",
        "import warnings\n",
        "warnings.filterwarnings('ignore') "
      ]
    },
    {
      "cell_type": "markdown",
      "metadata": {
        "id": "Rsu0y4Ha2Zit"
      },
      "source": [
        "INSTRUCTIONS\n",
        "\n",
        "1. Number of people by gender\n",
        "1. Kill weapon\n",
        "1. Age of killed people\n",
        "1. Race of killed people\n",
        "1. Killed People According to Races (Pie Chart)\n",
        "1. Most common 15 Name or Surname of killed people\n",
        "\n",
        "<br>"
      ]
    },
    {
      "cell_type": "markdown",
      "metadata": {
        "id": "OTDjgwf53tr5"
      },
      "source": [
        "read data\n",
        "\n",
        "if didn't work you can use this parameters: encoding=\"windows-1252\""
      ]
    },
    {
      "cell_type": "code",
      "execution_count": 29,
      "metadata": {
        "_cell_guid": "abb0685f-f844-43f8-84c0-4cd54361c7bf",
        "_uuid": "9c06ed7c41db79ae9d940f2d52aeff23621b3037",
        "id": "NYz5lAPp2Ziu"
      },
      "outputs": [],
      "source": [
        "kill = pd.read_csv(\"PoliceKillingsUS.csv\", encoding=\"windows-1252\")"
      ]
    },
    {
      "cell_type": "markdown",
      "metadata": {
        "id": "wMFloMjW2Zi8"
      },
      "source": [
        "## 1: Plot number of people by gender"
      ]
    },
    {
      "cell_type": "code",
      "execution_count": 30,
      "metadata": {
        "colab": {
          "base_uri": "https://localhost:8080/",
          "height": 357
        },
        "id": "7PxlAUzrh5Zz",
        "outputId": "3c39d0e6-5df7-4d51-afcc-35b5c9dfbc3f"
      },
      "outputs": [
        {
          "data": {
            "text/html": [
              "<div>\n",
              "<style scoped>\n",
              "    .dataframe tbody tr th:only-of-type {\n",
              "        vertical-align: middle;\n",
              "    }\n",
              "\n",
              "    .dataframe tbody tr th {\n",
              "        vertical-align: top;\n",
              "    }\n",
              "\n",
              "    .dataframe thead th {\n",
              "        text-align: right;\n",
              "    }\n",
              "</style>\n",
              "<table border=\"1\" class=\"dataframe\">\n",
              "  <thead>\n",
              "    <tr style=\"text-align: right;\">\n",
              "      <th></th>\n",
              "      <th>id</th>\n",
              "      <th>name</th>\n",
              "      <th>date</th>\n",
              "      <th>manner_of_death</th>\n",
              "      <th>armed</th>\n",
              "      <th>age</th>\n",
              "      <th>gender</th>\n",
              "      <th>race</th>\n",
              "      <th>city</th>\n",
              "      <th>state</th>\n",
              "      <th>signs_of_mental_illness</th>\n",
              "      <th>threat_level</th>\n",
              "      <th>flee</th>\n",
              "      <th>body_camera</th>\n",
              "    </tr>\n",
              "  </thead>\n",
              "  <tbody>\n",
              "    <tr>\n",
              "      <th>0</th>\n",
              "      <td>3</td>\n",
              "      <td>Tim Elliot</td>\n",
              "      <td>02/01/15</td>\n",
              "      <td>shot</td>\n",
              "      <td>gun</td>\n",
              "      <td>53.0</td>\n",
              "      <td>M</td>\n",
              "      <td>A</td>\n",
              "      <td>Shelton</td>\n",
              "      <td>WA</td>\n",
              "      <td>True</td>\n",
              "      <td>attack</td>\n",
              "      <td>Not fleeing</td>\n",
              "      <td>False</td>\n",
              "    </tr>\n",
              "    <tr>\n",
              "      <th>1</th>\n",
              "      <td>4</td>\n",
              "      <td>Lewis Lee Lembke</td>\n",
              "      <td>02/01/15</td>\n",
              "      <td>shot</td>\n",
              "      <td>gun</td>\n",
              "      <td>47.0</td>\n",
              "      <td>M</td>\n",
              "      <td>W</td>\n",
              "      <td>Aloha</td>\n",
              "      <td>OR</td>\n",
              "      <td>False</td>\n",
              "      <td>attack</td>\n",
              "      <td>Not fleeing</td>\n",
              "      <td>False</td>\n",
              "    </tr>\n",
              "    <tr>\n",
              "      <th>2</th>\n",
              "      <td>5</td>\n",
              "      <td>John Paul Quintero</td>\n",
              "      <td>03/01/15</td>\n",
              "      <td>shot and Tasered</td>\n",
              "      <td>unarmed</td>\n",
              "      <td>23.0</td>\n",
              "      <td>M</td>\n",
              "      <td>H</td>\n",
              "      <td>Wichita</td>\n",
              "      <td>KS</td>\n",
              "      <td>False</td>\n",
              "      <td>other</td>\n",
              "      <td>Not fleeing</td>\n",
              "      <td>False</td>\n",
              "    </tr>\n",
              "    <tr>\n",
              "      <th>3</th>\n",
              "      <td>8</td>\n",
              "      <td>Matthew Hoffman</td>\n",
              "      <td>04/01/15</td>\n",
              "      <td>shot</td>\n",
              "      <td>toy weapon</td>\n",
              "      <td>32.0</td>\n",
              "      <td>M</td>\n",
              "      <td>W</td>\n",
              "      <td>San Francisco</td>\n",
              "      <td>CA</td>\n",
              "      <td>True</td>\n",
              "      <td>attack</td>\n",
              "      <td>Not fleeing</td>\n",
              "      <td>False</td>\n",
              "    </tr>\n",
              "    <tr>\n",
              "      <th>4</th>\n",
              "      <td>9</td>\n",
              "      <td>Michael Rodriguez</td>\n",
              "      <td>04/01/15</td>\n",
              "      <td>shot</td>\n",
              "      <td>nail gun</td>\n",
              "      <td>39.0</td>\n",
              "      <td>M</td>\n",
              "      <td>H</td>\n",
              "      <td>Evans</td>\n",
              "      <td>CO</td>\n",
              "      <td>False</td>\n",
              "      <td>attack</td>\n",
              "      <td>Not fleeing</td>\n",
              "      <td>False</td>\n",
              "    </tr>\n",
              "  </tbody>\n",
              "</table>\n",
              "</div>"
            ],
            "text/plain": [
              "   id                name      date   manner_of_death       armed   age  \\\n",
              "0   3          Tim Elliot  02/01/15              shot         gun  53.0   \n",
              "1   4    Lewis Lee Lembke  02/01/15              shot         gun  47.0   \n",
              "2   5  John Paul Quintero  03/01/15  shot and Tasered     unarmed  23.0   \n",
              "3   8     Matthew Hoffman  04/01/15              shot  toy weapon  32.0   \n",
              "4   9   Michael Rodriguez  04/01/15              shot    nail gun  39.0   \n",
              "\n",
              "  gender race           city state  signs_of_mental_illness threat_level  \\\n",
              "0      M    A        Shelton    WA                     True       attack   \n",
              "1      M    W          Aloha    OR                    False       attack   \n",
              "2      M    H        Wichita    KS                    False        other   \n",
              "3      M    W  San Francisco    CA                     True       attack   \n",
              "4      M    H          Evans    CO                    False       attack   \n",
              "\n",
              "          flee  body_camera  \n",
              "0  Not fleeing        False  \n",
              "1  Not fleeing        False  \n",
              "2  Not fleeing        False  \n",
              "3  Not fleeing        False  \n",
              "4  Not fleeing        False  "
            ]
          },
          "execution_count": 30,
          "metadata": {},
          "output_type": "execute_result"
        }
      ],
      "source": [
        "kill.head()"
      ]
    },
    {
      "cell_type": "code",
      "execution_count": 31,
      "metadata": {
        "colab": {
          "base_uri": "https://localhost:8080/",
          "height": 281
        },
        "id": "yrBhkKl-iQFT",
        "outputId": "5668cdc0-f1b2-44ce-c6ef-db7b409199cf"
      },
      "outputs": [
        {
          "data": {
            "image/png": "[encoded data removed]",
            "text/plain": [
              "<Figure size 432x288 with 1 Axes>"
            ]
          },
          "metadata": {
            "needs_background": "light"
          },
          "output_type": "display_data"
        }
      ],
      "source": [
        "killer = kill.gender.unique()\n",
        "value_killer = kill.gender.value_counts().values\n",
        "fig, ax = plt.subplots()\n",
        "ax.bar(killer,value_killer)\n",
        "ax.set_title(\"Gender Distribution\")\n",
        "for p in ax.patches:\n",
        "    ax.annotate((p.get_height()), (p.get_x()+0.3, p.get_height()+1));\n"
      ]
    },
    {
      "cell_type": "code",
      "execution_count": 32,
      "metadata": {
        "colab": {
          "base_uri": "https://localhost:8080/",
          "height": 283
        },
        "id": "KtJXC38R2Zi9",
        "outputId": "99c4a881-e389-4469-984c-31d6b2bf67a2"
      },
      "outputs": [],
      "source": [
        "# with matplotlib\n"
      ]
    },
    {
      "cell_type": "markdown",
      "metadata": {
        "id": "3CDiN8a22Zi9"
      },
      "source": [
        "## 2: Plot 7 most common kill weapons"
      ]
    },
    {
      "cell_type": "code",
      "execution_count": 33,
      "metadata": {
        "colab": {
          "base_uri": "https://localhost:8080/"
        },
        "id": "7ekLqPPuYn1q",
        "outputId": "a8a00651-c8e0-4d81-d7a2-6aadf0c7bac7"
      },
      "outputs": [
        {
          "data": {
            "text/plain": [
              "gun             1398\n",
              "knife            373\n",
              "vehicle          177\n",
              "unarmed          171\n",
              "undetermined     117\n",
              "toy weapon       104\n",
              "machete           18\n",
              "Name: armed, dtype: int64"
            ]
          },
          "execution_count": 33,
          "metadata": {},
          "output_type": "execute_result"
        }
      ],
      "source": [
        "kill.armed.value_counts().head(7)"
      ]
    },
    {
      "cell_type": "code",
      "execution_count": 34,
      "metadata": {
        "colab": {
          "base_uri": "https://localhost:8080/",
          "height": 367
        },
        "id": "qOuDUWzkY7aO",
        "outputId": "9850835d-41a8-4fd1-f062-a1e4cc637872"
      },
      "outputs": [
        {
          "data": {
            "image/png": "[encoded data removed]",
            "text/plain": [
              "<Figure size 576x360 with 1 Axes>"
            ]
          },
          "metadata": {
            "needs_background": "light"
          },
          "output_type": "display_data"
        }
      ],
      "source": [
        "p = kill.armed.value_counts().index[:7]\n",
        "q = kill.armed.value_counts().values[:7]\n",
        "fig, ax = plt.subplots(figsize=(8, 5))\n",
        "ax.bar(p,q)\n",
        "ax.set_xticklabels(p, rotation=45)\n",
        "for s in ax.patches:\n",
        "    ax.annotate((s.get_height()), (s.get_x()+0.3, s.get_height()+1))\n"
      ]
    },
    {
      "cell_type": "code",
      "execution_count": 35,
      "metadata": {
        "colab": {
          "base_uri": "https://localhost:8080/",
          "height": 379
        },
        "id": "v6AvLOw82Zi-",
        "outputId": "b0539d81-1511-4ec4-b5dd-4160319f2096"
      },
      "outputs": [],
      "source": [
        "# with matplotlib\n"
      ]
    },
    {
      "cell_type": "markdown",
      "metadata": {
        "id": "GqXH5Xag2Zi-"
      },
      "source": [
        "## 3: Plot number of age of killed people under two groups : Under 25 and Above 25"
      ]
    },
    {
      "cell_type": "code",
      "execution_count": 36,
      "metadata": {
        "colab": {
          "base_uri": "https://localhost:8080/",
          "height": 357
        },
        "id": "LF-jUeyJeARl",
        "outputId": "bcaa2df9-7820-455b-b916-9c18bf186cec"
      },
      "outputs": [
        {
          "data": {
            "text/html": [
              "<div>\n",
              "<style scoped>\n",
              "    .dataframe tbody tr th:only-of-type {\n",
              "        vertical-align: middle;\n",
              "    }\n",
              "\n",
              "    .dataframe tbody tr th {\n",
              "        vertical-align: top;\n",
              "    }\n",
              "\n",
              "    .dataframe thead th {\n",
              "        text-align: right;\n",
              "    }\n",
              "</style>\n",
              "<table border=\"1\" class=\"dataframe\">\n",
              "  <thead>\n",
              "    <tr style=\"text-align: right;\">\n",
              "      <th></th>\n",
              "      <th>id</th>\n",
              "      <th>name</th>\n",
              "      <th>date</th>\n",
              "      <th>manner_of_death</th>\n",
              "      <th>armed</th>\n",
              "      <th>age</th>\n",
              "      <th>gender</th>\n",
              "      <th>race</th>\n",
              "      <th>city</th>\n",
              "      <th>state</th>\n",
              "      <th>signs_of_mental_illness</th>\n",
              "      <th>threat_level</th>\n",
              "      <th>flee</th>\n",
              "      <th>body_camera</th>\n",
              "    </tr>\n",
              "  </thead>\n",
              "  <tbody>\n",
              "    <tr>\n",
              "      <th>0</th>\n",
              "      <td>3</td>\n",
              "      <td>Tim Elliot</td>\n",
              "      <td>02/01/15</td>\n",
              "      <td>shot</td>\n",
              "      <td>gun</td>\n",
              "      <td>53.0</td>\n",
              "      <td>M</td>\n",
              "      <td>A</td>\n",
              "      <td>Shelton</td>\n",
              "      <td>WA</td>\n",
              "      <td>True</td>\n",
              "      <td>attack</td>\n",
              "      <td>Not fleeing</td>\n",
              "      <td>False</td>\n",
              "    </tr>\n",
              "    <tr>\n",
              "      <th>1</th>\n",
              "      <td>4</td>\n",
              "      <td>Lewis Lee Lembke</td>\n",
              "      <td>02/01/15</td>\n",
              "      <td>shot</td>\n",
              "      <td>gun</td>\n",
              "      <td>47.0</td>\n",
              "      <td>M</td>\n",
              "      <td>W</td>\n",
              "      <td>Aloha</td>\n",
              "      <td>OR</td>\n",
              "      <td>False</td>\n",
              "      <td>attack</td>\n",
              "      <td>Not fleeing</td>\n",
              "      <td>False</td>\n",
              "    </tr>\n",
              "    <tr>\n",
              "      <th>2</th>\n",
              "      <td>5</td>\n",
              "      <td>John Paul Quintero</td>\n",
              "      <td>03/01/15</td>\n",
              "      <td>shot and Tasered</td>\n",
              "      <td>unarmed</td>\n",
              "      <td>23.0</td>\n",
              "      <td>M</td>\n",
              "      <td>H</td>\n",
              "      <td>Wichita</td>\n",
              "      <td>KS</td>\n",
              "      <td>False</td>\n",
              "      <td>other</td>\n",
              "      <td>Not fleeing</td>\n",
              "      <td>False</td>\n",
              "    </tr>\n",
              "    <tr>\n",
              "      <th>3</th>\n",
              "      <td>8</td>\n",
              "      <td>Matthew Hoffman</td>\n",
              "      <td>04/01/15</td>\n",
              "      <td>shot</td>\n",
              "      <td>toy weapon</td>\n",
              "      <td>32.0</td>\n",
              "      <td>M</td>\n",
              "      <td>W</td>\n",
              "      <td>San Francisco</td>\n",
              "      <td>CA</td>\n",
              "      <td>True</td>\n",
              "      <td>attack</td>\n",
              "      <td>Not fleeing</td>\n",
              "      <td>False</td>\n",
              "    </tr>\n",
              "    <tr>\n",
              "      <th>4</th>\n",
              "      <td>9</td>\n",
              "      <td>Michael Rodriguez</td>\n",
              "      <td>04/01/15</td>\n",
              "      <td>shot</td>\n",
              "      <td>nail gun</td>\n",
              "      <td>39.0</td>\n",
              "      <td>M</td>\n",
              "      <td>H</td>\n",
              "      <td>Evans</td>\n",
              "      <td>CO</td>\n",
              "      <td>False</td>\n",
              "      <td>attack</td>\n",
              "      <td>Not fleeing</td>\n",
              "      <td>False</td>\n",
              "    </tr>\n",
              "  </tbody>\n",
              "</table>\n",
              "</div>"
            ],
            "text/plain": [
              "   id                name      date   manner_of_death       armed   age  \\\n",
              "0   3          Tim Elliot  02/01/15              shot         gun  53.0   \n",
              "1   4    Lewis Lee Lembke  02/01/15              shot         gun  47.0   \n",
              "2   5  John Paul Quintero  03/01/15  shot and Tasered     unarmed  23.0   \n",
              "3   8     Matthew Hoffman  04/01/15              shot  toy weapon  32.0   \n",
              "4   9   Michael Rodriguez  04/01/15              shot    nail gun  39.0   \n",
              "\n",
              "  gender race           city state  signs_of_mental_illness threat_level  \\\n",
              "0      M    A        Shelton    WA                     True       attack   \n",
              "1      M    W          Aloha    OR                    False       attack   \n",
              "2      M    H        Wichita    KS                    False        other   \n",
              "3      M    W  San Francisco    CA                     True       attack   \n",
              "4      M    H          Evans    CO                    False       attack   \n",
              "\n",
              "          flee  body_camera  \n",
              "0  Not fleeing        False  \n",
              "1  Not fleeing        False  \n",
              "2  Not fleeing        False  \n",
              "3  Not fleeing        False  \n",
              "4  Not fleeing        False  "
            ]
          },
          "execution_count": 36,
          "metadata": {},
          "output_type": "execute_result"
        }
      ],
      "source": [
        "kill[(kill[\"age\"]<25) | (kill[\"age\"]>25)].head()"
      ]
    },
    {
      "cell_type": "code",
      "execution_count": 68,
      "metadata": {
        "id": "Pyizwx89QdA2"
      },
      "outputs": [],
      "source": [
        "kill.loc[kill['age']<= 25, 'age_cat'] = \"below25\"\n",
        "kill.loc[kill['age']> 25, 'age_cat'] = \"above25\"\n"
      ]
    },
    {
      "cell_type": "code",
      "execution_count": 67,
      "metadata": {
        "colab": {
          "base_uri": "https://localhost:8080/",
          "height": 688
        },
        "id": "rafetrFdQ0-Z",
        "outputId": "809f0311-ae91-42f9-88c0-5a84422ff460"
      },
      "outputs": [
        {
          "data": {
            "text/html": [
              "<div>\n",
              "<style scoped>\n",
              "    .dataframe tbody tr th:only-of-type {\n",
              "        vertical-align: middle;\n",
              "    }\n",
              "\n",
              "    .dataframe tbody tr th {\n",
              "        vertical-align: top;\n",
              "    }\n",
              "\n",
              "    .dataframe thead th {\n",
              "        text-align: right;\n",
              "    }\n",
              "</style>\n",
              "<table border=\"1\" class=\"dataframe\">\n",
              "  <thead>\n",
              "    <tr style=\"text-align: right;\">\n",
              "      <th></th>\n",
              "      <th>2515</th>\n",
              "      <th>2516</th>\n",
              "      <th>2517</th>\n",
              "      <th>2518</th>\n",
              "      <th>2519</th>\n",
              "      <th>2520</th>\n",
              "      <th>2521</th>\n",
              "      <th>2522</th>\n",
              "      <th>2523</th>\n",
              "      <th>2524</th>\n",
              "      <th>2525</th>\n",
              "      <th>2526</th>\n",
              "      <th>2527</th>\n",
              "      <th>2528</th>\n",
              "      <th>2529</th>\n",
              "      <th>2530</th>\n",
              "      <th>2531</th>\n",
              "      <th>2532</th>\n",
              "      <th>2533</th>\n",
              "      <th>2534</th>\n",
              "    </tr>\n",
              "  </thead>\n",
              "  <tbody>\n",
              "    <tr>\n",
              "      <th>id</th>\n",
              "      <td>2798</td>\n",
              "      <td>2801</td>\n",
              "      <td>2802</td>\n",
              "      <td>2803</td>\n",
              "      <td>2805</td>\n",
              "      <td>2804</td>\n",
              "      <td>2806</td>\n",
              "      <td>2807</td>\n",
              "      <td>2808</td>\n",
              "      <td>2816</td>\n",
              "      <td>2820</td>\n",
              "      <td>2809</td>\n",
              "      <td>2811</td>\n",
              "      <td>2812</td>\n",
              "      <td>2819</td>\n",
              "      <td>2822</td>\n",
              "      <td>2813</td>\n",
              "      <td>2818</td>\n",
              "      <td>2817</td>\n",
              "      <td>2815</td>\n",
              "    </tr>\n",
              "    <tr>\n",
              "      <th>name</th>\n",
              "      <td>Jerrod Kershaw</td>\n",
              "      <td>Alexander J. Schoessel</td>\n",
              "      <td>Michael Joseph Harris</td>\n",
              "      <td>Moises Balladares</td>\n",
              "      <td>Aries Clark</td>\n",
              "      <td>TK TK</td>\n",
              "      <td>TK TK</td>\n",
              "      <td>Susan Teel</td>\n",
              "      <td>Kesharn K. Burney</td>\n",
              "      <td>Jerauld Phillip Hammond II</td>\n",
              "      <td>Deltra Henderson</td>\n",
              "      <td>Sergio Velasco-Martinez</td>\n",
              "      <td>Matthew Folden</td>\n",
              "      <td>Alejandro Alvarado</td>\n",
              "      <td>Brian J. Skinner</td>\n",
              "      <td>Rodney E. Jacobs</td>\n",
              "      <td>TK TK</td>\n",
              "      <td>Dennis W. Robinson</td>\n",
              "      <td>Isaiah Tucker</td>\n",
              "      <td>Dwayne Jeune</td>\n",
              "    </tr>\n",
              "    <tr>\n",
              "      <th>date</th>\n",
              "      <td>24/07/17</td>\n",
              "      <td>25/07/17</td>\n",
              "      <td>25/07/17</td>\n",
              "      <td>25/07/17</td>\n",
              "      <td>25/07/17</td>\n",
              "      <td>26/07/17</td>\n",
              "      <td>26/07/17</td>\n",
              "      <td>26/07/17</td>\n",
              "      <td>26/07/17</td>\n",
              "      <td>27/07/17</td>\n",
              "      <td>27/07/17</td>\n",
              "      <td>27/07/17</td>\n",
              "      <td>27/07/17</td>\n",
              "      <td>27/07/17</td>\n",
              "      <td>28/07/17</td>\n",
              "      <td>28/07/17</td>\n",
              "      <td>28/07/17</td>\n",
              "      <td>29/07/17</td>\n",
              "      <td>31/07/17</td>\n",
              "      <td>31/07/17</td>\n",
              "    </tr>\n",
              "    <tr>\n",
              "      <th>manner_of_death</th>\n",
              "      <td>shot</td>\n",
              "      <td>shot</td>\n",
              "      <td>shot</td>\n",
              "      <td>shot</td>\n",
              "      <td>shot</td>\n",
              "      <td>shot</td>\n",
              "      <td>shot</td>\n",
              "      <td>shot</td>\n",
              "      <td>shot</td>\n",
              "      <td>shot</td>\n",
              "      <td>shot</td>\n",
              "      <td>shot</td>\n",
              "      <td>shot</td>\n",
              "      <td>shot</td>\n",
              "      <td>shot</td>\n",
              "      <td>shot</td>\n",
              "      <td>shot</td>\n",
              "      <td>shot</td>\n",
              "      <td>shot</td>\n",
              "      <td>shot</td>\n",
              "    </tr>\n",
              "    <tr>\n",
              "      <th>armed</th>\n",
              "      <td>gun</td>\n",
              "      <td>ax</td>\n",
              "      <td>gun</td>\n",
              "      <td>gun</td>\n",
              "      <td>undetermined</td>\n",
              "      <td>gun</td>\n",
              "      <td>gun</td>\n",
              "      <td>knife</td>\n",
              "      <td>vehicle</td>\n",
              "      <td>gun</td>\n",
              "      <td>gun</td>\n",
              "      <td>blunt object</td>\n",
              "      <td>knife</td>\n",
              "      <td>knife</td>\n",
              "      <td>knife</td>\n",
              "      <td>gun</td>\n",
              "      <td>vehicle</td>\n",
              "      <td>gun</td>\n",
              "      <td>vehicle</td>\n",
              "      <td>knife</td>\n",
              "    </tr>\n",
              "    <tr>\n",
              "      <th>age</th>\n",
              "      <td>31.0</td>\n",
              "      <td>23.0</td>\n",
              "      <td>28.0</td>\n",
              "      <td>33.0</td>\n",
              "      <td>16.0</td>\n",
              "      <td>35.0</td>\n",
              "      <td>NaN</td>\n",
              "      <td>62.0</td>\n",
              "      <td>25.0</td>\n",
              "      <td>46.0</td>\n",
              "      <td>39.0</td>\n",
              "      <td>25.0</td>\n",
              "      <td>31.0</td>\n",
              "      <td>NaN</td>\n",
              "      <td>32.0</td>\n",
              "      <td>31.0</td>\n",
              "      <td>NaN</td>\n",
              "      <td>48.0</td>\n",
              "      <td>28.0</td>\n",
              "      <td>32.0</td>\n",
              "    </tr>\n",
              "    <tr>\n",
              "      <th>gender</th>\n",
              "      <td>M</td>\n",
              "      <td>M</td>\n",
              "      <td>M</td>\n",
              "      <td>M</td>\n",
              "      <td>M</td>\n",
              "      <td>M</td>\n",
              "      <td>M</td>\n",
              "      <td>F</td>\n",
              "      <td>M</td>\n",
              "      <td>M</td>\n",
              "      <td>M</td>\n",
              "      <td>M</td>\n",
              "      <td>M</td>\n",
              "      <td>M</td>\n",
              "      <td>M</td>\n",
              "      <td>M</td>\n",
              "      <td>M</td>\n",
              "      <td>M</td>\n",
              "      <td>M</td>\n",
              "      <td>M</td>\n",
              "    </tr>\n",
              "    <tr>\n",
              "      <th>race</th>\n",
              "      <td>W</td>\n",
              "      <td>W</td>\n",
              "      <td>W</td>\n",
              "      <td>NaN</td>\n",
              "      <td>B</td>\n",
              "      <td>NaN</td>\n",
              "      <td>NaN</td>\n",
              "      <td>NaN</td>\n",
              "      <td>B</td>\n",
              "      <td>NaN</td>\n",
              "      <td>B</td>\n",
              "      <td>NaN</td>\n",
              "      <td>NaN</td>\n",
              "      <td>H</td>\n",
              "      <td>NaN</td>\n",
              "      <td>NaN</td>\n",
              "      <td>NaN</td>\n",
              "      <td>NaN</td>\n",
              "      <td>B</td>\n",
              "      <td>B</td>\n",
              "    </tr>\n",
              "    <tr>\n",
              "      <th>city</th>\n",
              "      <td>St. Louis</td>\n",
              "      <td>Richmond</td>\n",
              "      <td>Jacksonville</td>\n",
              "      <td>Avondale</td>\n",
              "      <td>Marion</td>\n",
              "      <td>Phoenix</td>\n",
              "      <td>San Antonio</td>\n",
              "      <td>Vero Beach</td>\n",
              "      <td>Dayton</td>\n",
              "      <td>Los Angeles</td>\n",
              "      <td>Homer</td>\n",
              "      <td>Avenal</td>\n",
              "      <td>Wenatchee</td>\n",
              "      <td>Chowchilla</td>\n",
              "      <td>Glenville</td>\n",
              "      <td>Kansas City</td>\n",
              "      <td>Albuquerque</td>\n",
              "      <td>Melba</td>\n",
              "      <td>Oshkosh</td>\n",
              "      <td>Brooklyn</td>\n",
              "    </tr>\n",
              "    <tr>\n",
              "      <th>state</th>\n",
              "      <td>MO</td>\n",
              "      <td>VA</td>\n",
              "      <td>FL</td>\n",
              "      <td>AZ</td>\n",
              "      <td>AR</td>\n",
              "      <td>AZ</td>\n",
              "      <td>TX</td>\n",
              "      <td>FL</td>\n",
              "      <td>OH</td>\n",
              "      <td>CA</td>\n",
              "      <td>LA</td>\n",
              "      <td>CA</td>\n",
              "      <td>WA</td>\n",
              "      <td>CA</td>\n",
              "      <td>NY</td>\n",
              "      <td>MO</td>\n",
              "      <td>NM</td>\n",
              "      <td>ID</td>\n",
              "      <td>WI</td>\n",
              "      <td>NY</td>\n",
              "    </tr>\n",
              "    <tr>\n",
              "      <th>signs_of_mental_illness</th>\n",
              "      <td>True</td>\n",
              "      <td>True</td>\n",
              "      <td>False</td>\n",
              "      <td>True</td>\n",
              "      <td>False</td>\n",
              "      <td>False</td>\n",
              "      <td>False</td>\n",
              "      <td>True</td>\n",
              "      <td>False</td>\n",
              "      <td>False</td>\n",
              "      <td>False</td>\n",
              "      <td>False</td>\n",
              "      <td>False</td>\n",
              "      <td>False</td>\n",
              "      <td>True</td>\n",
              "      <td>False</td>\n",
              "      <td>False</td>\n",
              "      <td>False</td>\n",
              "      <td>False</td>\n",
              "      <td>True</td>\n",
              "    </tr>\n",
              "    <tr>\n",
              "      <th>threat_level</th>\n",
              "      <td>attack</td>\n",
              "      <td>other</td>\n",
              "      <td>attack</td>\n",
              "      <td>attack</td>\n",
              "      <td>undetermined</td>\n",
              "      <td>attack</td>\n",
              "      <td>attack</td>\n",
              "      <td>attack</td>\n",
              "      <td>attack</td>\n",
              "      <td>other</td>\n",
              "      <td>attack</td>\n",
              "      <td>attack</td>\n",
              "      <td>other</td>\n",
              "      <td>attack</td>\n",
              "      <td>other</td>\n",
              "      <td>attack</td>\n",
              "      <td>attack</td>\n",
              "      <td>attack</td>\n",
              "      <td>attack</td>\n",
              "      <td>attack</td>\n",
              "    </tr>\n",
              "    <tr>\n",
              "      <th>flee</th>\n",
              "      <td>Car</td>\n",
              "      <td>Foot</td>\n",
              "      <td>Car</td>\n",
              "      <td>Not fleeing</td>\n",
              "      <td>Not fleeing</td>\n",
              "      <td>Other</td>\n",
              "      <td>Not fleeing</td>\n",
              "      <td>Not fleeing</td>\n",
              "      <td>Car</td>\n",
              "      <td>Not fleeing</td>\n",
              "      <td>Car</td>\n",
              "      <td>Not fleeing</td>\n",
              "      <td>Not fleeing</td>\n",
              "      <td>Not fleeing</td>\n",
              "      <td>Not fleeing</td>\n",
              "      <td>Not fleeing</td>\n",
              "      <td>Car</td>\n",
              "      <td>Car</td>\n",
              "      <td>Car</td>\n",
              "      <td>Not fleeing</td>\n",
              "    </tr>\n",
              "    <tr>\n",
              "      <th>body_camera</th>\n",
              "      <td>False</td>\n",
              "      <td>False</td>\n",
              "      <td>False</td>\n",
              "      <td>False</td>\n",
              "      <td>False</td>\n",
              "      <td>False</td>\n",
              "      <td>False</td>\n",
              "      <td>False</td>\n",
              "      <td>False</td>\n",
              "      <td>False</td>\n",
              "      <td>False</td>\n",
              "      <td>False</td>\n",
              "      <td>False</td>\n",
              "      <td>False</td>\n",
              "      <td>False</td>\n",
              "      <td>False</td>\n",
              "      <td>False</td>\n",
              "      <td>False</td>\n",
              "      <td>True</td>\n",
              "      <td>False</td>\n",
              "    </tr>\n",
              "    <tr>\n",
              "      <th>age_cat</th>\n",
              "      <td>above25</td>\n",
              "      <td>below25</td>\n",
              "      <td>above25</td>\n",
              "      <td>above25</td>\n",
              "      <td>below25</td>\n",
              "      <td>above25</td>\n",
              "      <td>below25</td>\n",
              "      <td>above25</td>\n",
              "      <td>below25</td>\n",
              "      <td>above25</td>\n",
              "      <td>above25</td>\n",
              "      <td>below25</td>\n",
              "      <td>above25</td>\n",
              "      <td>below25</td>\n",
              "      <td>above25</td>\n",
              "      <td>above25</td>\n",
              "      <td>below25</td>\n",
              "      <td>above25</td>\n",
              "      <td>above25</td>\n",
              "      <td>above25</td>\n",
              "    </tr>\n",
              "  </tbody>\n",
              "</table>\n",
              "</div>"
            ],
            "text/plain": [
              "                                   2515                    2516  \\\n",
              "id                                 2798                    2801   \n",
              "name                     Jerrod Kershaw  Alexander J. Schoessel   \n",
              "date                           24/07/17                25/07/17   \n",
              "manner_of_death                    shot                    shot   \n",
              "armed                               gun                      ax   \n",
              "age                                31.0                    23.0   \n",
              "gender                                M                       M   \n",
              "race                                  W                       W   \n",
              "city                          St. Louis                Richmond   \n",
              "state                                MO                      VA   \n",
              "signs_of_mental_illness            True                    True   \n",
              "threat_level                     attack                   other   \n",
              "flee                                Car                    Foot   \n",
              "body_camera                       False                   False   \n",
              "age_cat                         above25                 below25   \n",
              "\n",
              "                                          2517               2518  \\\n",
              "id                                        2802               2803   \n",
              "name                     Michael Joseph Harris  Moises Balladares   \n",
              "date                                  25/07/17           25/07/17   \n",
              "manner_of_death                           shot               shot   \n",
              "armed                                      gun                gun   \n",
              "age                                       28.0               33.0   \n",
              "gender                                       M                  M   \n",
              "race                                         W                NaN   \n",
              "city                              Jacksonville           Avondale   \n",
              "state                                       FL                 AZ   \n",
              "signs_of_mental_illness                  False               True   \n",
              "threat_level                            attack             attack   \n",
              "flee                                       Car        Not fleeing   \n",
              "body_camera                              False              False   \n",
              "age_cat                                above25            above25   \n",
              "\n",
              "                                 2519      2520         2521         2522  \\\n",
              "id                               2805      2804         2806         2807   \n",
              "name                      Aries Clark     TK TK        TK TK   Susan Teel   \n",
              "date                         25/07/17  26/07/17     26/07/17     26/07/17   \n",
              "manner_of_death                  shot      shot         shot         shot   \n",
              "armed                    undetermined       gun          gun        knife   \n",
              "age                              16.0      35.0          NaN         62.0   \n",
              "gender                              M         M            M            F   \n",
              "race                                B       NaN          NaN          NaN   \n",
              "city                           Marion   Phoenix  San Antonio   Vero Beach   \n",
              "state                              AR        AZ           TX           FL   \n",
              "signs_of_mental_illness         False     False        False         True   \n",
              "threat_level             undetermined    attack       attack       attack   \n",
              "flee                      Not fleeing     Other  Not fleeing  Not fleeing   \n",
              "body_camera                     False     False        False        False   \n",
              "age_cat                       below25   above25      below25      above25   \n",
              "\n",
              "                                      2523                        2524  \\\n",
              "id                                    2808                        2816   \n",
              "name                     Kesharn K. Burney  Jerauld Phillip Hammond II   \n",
              "date                              26/07/17                    27/07/17   \n",
              "manner_of_death                       shot                        shot   \n",
              "armed                              vehicle                         gun   \n",
              "age                                   25.0                        46.0   \n",
              "gender                                   M                           M   \n",
              "race                                     B                         NaN   \n",
              "city                                Dayton                 Los Angeles   \n",
              "state                                   OH                          CA   \n",
              "signs_of_mental_illness              False                       False   \n",
              "threat_level                        attack                       other   \n",
              "flee                                   Car                 Not fleeing   \n",
              "body_camera                          False                       False   \n",
              "age_cat                            below25                     above25   \n",
              "\n",
              "                                     2525                     2526  \\\n",
              "id                                   2820                     2809   \n",
              "name                     Deltra Henderson  Sergio Velasco-Martinez   \n",
              "date                             27/07/17                 27/07/17   \n",
              "manner_of_death                      shot                     shot   \n",
              "armed                                 gun             blunt object   \n",
              "age                                  39.0                     25.0   \n",
              "gender                                  M                        M   \n",
              "race                                    B                      NaN   \n",
              "city                                Homer                   Avenal   \n",
              "state                                  LA                       CA   \n",
              "signs_of_mental_illness             False                    False   \n",
              "threat_level                       attack                   attack   \n",
              "flee                                  Car              Not fleeing   \n",
              "body_camera                         False                    False   \n",
              "age_cat                           above25                  below25   \n",
              "\n",
              "                                   2527                2528              2529  \\\n",
              "id                                 2811                2812              2819   \n",
              "name                     Matthew Folden  Alejandro Alvarado  Brian J. Skinner   \n",
              "date                           27/07/17            27/07/17          28/07/17   \n",
              "manner_of_death                    shot                shot              shot   \n",
              "armed                             knife               knife             knife   \n",
              "age                                31.0                 NaN              32.0   \n",
              "gender                                M                   M                 M   \n",
              "race                                NaN                   H               NaN   \n",
              "city                          Wenatchee          Chowchilla         Glenville   \n",
              "state                                WA                  CA                NY   \n",
              "signs_of_mental_illness           False               False              True   \n",
              "threat_level                      other              attack             other   \n",
              "flee                        Not fleeing         Not fleeing       Not fleeing   \n",
              "body_camera                       False               False             False   \n",
              "age_cat                         above25             below25           above25   \n",
              "\n",
              "                                     2530         2531                2532  \\\n",
              "id                                   2822         2813                2818   \n",
              "name                     Rodney E. Jacobs        TK TK  Dennis W. Robinson   \n",
              "date                             28/07/17     28/07/17            29/07/17   \n",
              "manner_of_death                      shot         shot                shot   \n",
              "armed                                 gun      vehicle                 gun   \n",
              "age                                  31.0          NaN                48.0   \n",
              "gender                                  M            M                   M   \n",
              "race                                  NaN          NaN                 NaN   \n",
              "city                          Kansas City  Albuquerque               Melba   \n",
              "state                                  MO           NM                  ID   \n",
              "signs_of_mental_illness             False        False               False   \n",
              "threat_level                       attack       attack              attack   \n",
              "flee                          Not fleeing          Car                 Car   \n",
              "body_camera                         False        False               False   \n",
              "age_cat                           above25      below25             above25   \n",
              "\n",
              "                                  2533          2534  \n",
              "id                                2817          2815  \n",
              "name                     Isaiah Tucker  Dwayne Jeune  \n",
              "date                          31/07/17      31/07/17  \n",
              "manner_of_death                   shot          shot  \n",
              "armed                          vehicle         knife  \n",
              "age                               28.0          32.0  \n",
              "gender                               M             M  \n",
              "race                                 B             B  \n",
              "city                           Oshkosh      Brooklyn  \n",
              "state                               WI            NY  \n",
              "signs_of_mental_illness          False          True  \n",
              "threat_level                    attack        attack  \n",
              "flee                               Car   Not fleeing  \n",
              "body_camera                       True         False  \n",
              "age_cat                        above25       above25  "
            ]
          },
          "execution_count": 67,
          "metadata": {},
          "output_type": "execute_result"
        }
      ],
      "source": [
        "kill.tail(20).T"
      ]
    },
    {
      "cell_type": "code",
      "execution_count": 69,
      "metadata": {
        "colab": {
          "base_uri": "https://localhost:8080/"
        },
        "id": "bTpZtxS5S6Yp",
        "outputId": "8a359b7c-7237-45ab-8180-09e7876005c1"
      },
      "outputs": [
        {
          "data": {
            "text/plain": [
              "array(['above25', 'below25'], dtype=object)"
            ]
          },
          "execution_count": 69,
          "metadata": {},
          "output_type": "execute_result"
        }
      ],
      "source": [
        "kill.age_cat.unique()"
      ]
    },
    {
      "cell_type": "code",
      "execution_count": 70,
      "metadata": {
        "colab": {
          "base_uri": "https://localhost:8080/"
        },
        "id": "FQDhXOeSXUO9",
        "outputId": "93d80af8-f068-4756-e1af-50ece90309ea"
      },
      "outputs": [
        {
          "data": {
            "text/plain": [
              "array([1905,  630], dtype=int64)"
            ]
          },
          "execution_count": 70,
          "metadata": {},
          "output_type": "execute_result"
        }
      ],
      "source": [
        "kill.age_cat.value_counts().values"
      ]
    },
    {
      "cell_type": "code",
      "execution_count": 71,
      "metadata": {
        "id": "BQem28n5We_t"
      },
      "outputs": [],
      "source": [
        "kill.age_cat.fillna(\"below25\", inplace = True)"
      ]
    },
    {
      "cell_type": "code",
      "execution_count": 73,
      "metadata": {
        "colab": {
          "base_uri": "https://localhost:8080/",
          "height": 269
        },
        "id": "8jAxtV3LRn4v",
        "outputId": "a1b7a0c1-21b4-4476-b4d6-6fe0c5d9147b"
      },
      "outputs": [
        {
          "data": {
            "image/png": "[encoded data removed]",
            "text/plain": [
              "<Figure size 432x288 with 1 Axes>"
            ]
          },
          "metadata": {
            "needs_background": "light"
          },
          "output_type": "display_data"
        }
      ],
      "source": [
        "tt = kill.age_cat.unique()\n",
        "ff = kill.age_cat.value_counts().values\n",
        "fig, ax = plt.subplots()\n",
        "ax.bar(tt,ff)\n",
        "\n",
        "for p in ax.patches:\n",
        "    ax.annotate((p.get_height()), (p.get_x()+0.3, p.get_height()+5));"
      ]
    },
    {
      "cell_type": "code",
      "execution_count": 43,
      "metadata": {
        "colab": {
          "base_uri": "https://localhost:8080/",
          "height": 269
        },
        "id": "gpOukiYx2Zi_",
        "outputId": "84b257d1-14e1-4bef-d6a4-08cf0a236acb"
      },
      "outputs": [],
      "source": [
        "# with matplotlib\n"
      ]
    },
    {
      "cell_type": "markdown",
      "metadata": {
        "id": "SZ-wps772Zi_"
      },
      "source": [
        "## 4: Plot number of killed poeple by race"
      ]
    },
    {
      "cell_type": "code",
      "execution_count": 74,
      "metadata": {
        "colab": {
          "base_uri": "https://localhost:8080/"
        },
        "id": "iFifkoutXpjk",
        "outputId": "d44ff841-9fe8-4fd1-9978-a274473b39d6"
      },
      "outputs": [
        {
          "data": {
            "text/plain": [
              "W    1201\n",
              "B     618\n",
              "H     423\n",
              "A      39\n",
              "N      31\n",
              "O      28\n",
              "Name: race, dtype: int64"
            ]
          },
          "execution_count": 74,
          "metadata": {},
          "output_type": "execute_result"
        }
      ],
      "source": [
        "kill.race.value_counts()"
      ]
    },
    {
      "cell_type": "code",
      "execution_count": 45,
      "metadata": {
        "colab": {
          "base_uri": "https://localhost:8080/"
        },
        "id": "43g6Mx5fYM-L",
        "outputId": "deea65c6-d025-4875-c783-d388a64de031"
      },
      "outputs": [
        {
          "data": {
            "text/plain": [
              "array(['A', 'W', 'H', 'B', 'O', nan, 'N'], dtype=object)"
            ]
          },
          "execution_count": 45,
          "metadata": {},
          "output_type": "execute_result"
        }
      ],
      "source": [
        "a = kill.race.unique()\n",
        "a"
      ]
    },
    {
      "cell_type": "code",
      "execution_count": 75,
      "metadata": {
        "colab": {
          "base_uri": "https://localhost:8080/"
        },
        "id": "Z-I5V5v0YP7D",
        "outputId": "12c04e81-1cef-4751-8a4a-f17d373c5a68"
      },
      "outputs": [
        {
          "data": {
            "text/plain": [
              "array([1201,  618,  423,  195,   39,   31,   28], dtype=int64)"
            ]
          },
          "execution_count": 75,
          "metadata": {},
          "output_type": "execute_result"
        }
      ],
      "source": [
        " kill.race.value_counts(dropna=False).values"
      ]
    },
    {
      "cell_type": "code",
      "execution_count": 76,
      "metadata": {
        "colab": {
          "base_uri": "https://localhost:8080/",
          "height": 299
        },
        "id": "tuHG_YX9X2lT",
        "outputId": "f0b41e33-5bc6-48ac-be82-1207a2d31c6a"
      },
      "outputs": [
        {
          "data": {
            "text/plain": [
              "Text(0.5, 1.0, 'Race of killed people')"
            ]
          },
          "execution_count": 76,
          "metadata": {},
          "output_type": "execute_result"
        },
        {
          "data": {
            "image/png": "[encoded data removed]",
            "text/plain": [
              "<Figure size 432x288 with 1 Axes>"
            ]
          },
          "metadata": {
            "needs_background": "light"
          },
          "output_type": "display_data"
        }
      ],
      "source": [
        "rr = kill.race.value_counts().index\n",
        "yy = kill.race.value_counts().values\n",
        "fig, ax = plt.subplots()\n",
        "ax.bar(rr,yy)\n",
        "ax.set_title(\"Race of killed people\", color=\"b\", size=14)"
      ]
    },
    {
      "cell_type": "code",
      "execution_count": 48,
      "metadata": {
        "colab": {
          "base_uri": "https://localhost:8080/",
          "height": 283
        },
        "id": "Bb16OmdB2ZjA",
        "outputId": "7e601245-42a2-4547-8d3f-8151bc5a1005"
      },
      "outputs": [],
      "source": [
        "# with matplotlib\n"
      ]
    },
    {
      "cell_type": "code",
      "execution_count": null,
      "metadata": {
        "id": "o7z6kXmQ-EPT"
      },
      "outputs": [],
      "source": []
    },
    {
      "cell_type": "markdown",
      "metadata": {
        "id": "9pGSRTxe-l5B"
      },
      "source": [
        "## 5: Killed People According to Races (Pie Chart)"
      ]
    },
    {
      "cell_type": "code",
      "execution_count": 77,
      "metadata": {
        "colab": {
          "base_uri": "https://localhost:8080/",
          "height": 357
        },
        "id": "xXO4xElnP-P1",
        "outputId": "df0ad5dd-3502-4685-a1ca-01e5b8d4691a"
      },
      "outputs": [
        {
          "data": {
            "text/html": [
              "<div>\n",
              "<style scoped>\n",
              "    .dataframe tbody tr th:only-of-type {\n",
              "        vertical-align: middle;\n",
              "    }\n",
              "\n",
              "    .dataframe tbody tr th {\n",
              "        vertical-align: top;\n",
              "    }\n",
              "\n",
              "    .dataframe thead th {\n",
              "        text-align: right;\n",
              "    }\n",
              "</style>\n",
              "<table border=\"1\" class=\"dataframe\">\n",
              "  <thead>\n",
              "    <tr style=\"text-align: right;\">\n",
              "      <th></th>\n",
              "      <th>id</th>\n",
              "      <th>name</th>\n",
              "      <th>date</th>\n",
              "      <th>manner_of_death</th>\n",
              "      <th>armed</th>\n",
              "      <th>age</th>\n",
              "      <th>gender</th>\n",
              "      <th>race</th>\n",
              "      <th>city</th>\n",
              "      <th>state</th>\n",
              "      <th>signs_of_mental_illness</th>\n",
              "      <th>threat_level</th>\n",
              "      <th>flee</th>\n",
              "      <th>body_camera</th>\n",
              "      <th>age_cat</th>\n",
              "    </tr>\n",
              "  </thead>\n",
              "  <tbody>\n",
              "    <tr>\n",
              "      <th>0</th>\n",
              "      <td>3</td>\n",
              "      <td>Tim Elliot</td>\n",
              "      <td>02/01/15</td>\n",
              "      <td>shot</td>\n",
              "      <td>gun</td>\n",
              "      <td>53.0</td>\n",
              "      <td>M</td>\n",
              "      <td>A</td>\n",
              "      <td>Shelton</td>\n",
              "      <td>WA</td>\n",
              "      <td>True</td>\n",
              "      <td>attack</td>\n",
              "      <td>Not fleeing</td>\n",
              "      <td>False</td>\n",
              "      <td>above25</td>\n",
              "    </tr>\n",
              "    <tr>\n",
              "      <th>1</th>\n",
              "      <td>4</td>\n",
              "      <td>Lewis Lee Lembke</td>\n",
              "      <td>02/01/15</td>\n",
              "      <td>shot</td>\n",
              "      <td>gun</td>\n",
              "      <td>47.0</td>\n",
              "      <td>M</td>\n",
              "      <td>W</td>\n",
              "      <td>Aloha</td>\n",
              "      <td>OR</td>\n",
              "      <td>False</td>\n",
              "      <td>attack</td>\n",
              "      <td>Not fleeing</td>\n",
              "      <td>False</td>\n",
              "      <td>above25</td>\n",
              "    </tr>\n",
              "    <tr>\n",
              "      <th>2</th>\n",
              "      <td>5</td>\n",
              "      <td>John Paul Quintero</td>\n",
              "      <td>03/01/15</td>\n",
              "      <td>shot and Tasered</td>\n",
              "      <td>unarmed</td>\n",
              "      <td>23.0</td>\n",
              "      <td>M</td>\n",
              "      <td>H</td>\n",
              "      <td>Wichita</td>\n",
              "      <td>KS</td>\n",
              "      <td>False</td>\n",
              "      <td>other</td>\n",
              "      <td>Not fleeing</td>\n",
              "      <td>False</td>\n",
              "      <td>below25</td>\n",
              "    </tr>\n",
              "    <tr>\n",
              "      <th>3</th>\n",
              "      <td>8</td>\n",
              "      <td>Matthew Hoffman</td>\n",
              "      <td>04/01/15</td>\n",
              "      <td>shot</td>\n",
              "      <td>toy weapon</td>\n",
              "      <td>32.0</td>\n",
              "      <td>M</td>\n",
              "      <td>W</td>\n",
              "      <td>San Francisco</td>\n",
              "      <td>CA</td>\n",
              "      <td>True</td>\n",
              "      <td>attack</td>\n",
              "      <td>Not fleeing</td>\n",
              "      <td>False</td>\n",
              "      <td>above25</td>\n",
              "    </tr>\n",
              "    <tr>\n",
              "      <th>4</th>\n",
              "      <td>9</td>\n",
              "      <td>Michael Rodriguez</td>\n",
              "      <td>04/01/15</td>\n",
              "      <td>shot</td>\n",
              "      <td>nail gun</td>\n",
              "      <td>39.0</td>\n",
              "      <td>M</td>\n",
              "      <td>H</td>\n",
              "      <td>Evans</td>\n",
              "      <td>CO</td>\n",
              "      <td>False</td>\n",
              "      <td>attack</td>\n",
              "      <td>Not fleeing</td>\n",
              "      <td>False</td>\n",
              "      <td>above25</td>\n",
              "    </tr>\n",
              "  </tbody>\n",
              "</table>\n",
              "</div>"
            ],
            "text/plain": [
              "   id                name      date   manner_of_death       armed   age  \\\n",
              "0   3          Tim Elliot  02/01/15              shot         gun  53.0   \n",
              "1   4    Lewis Lee Lembke  02/01/15              shot         gun  47.0   \n",
              "2   5  John Paul Quintero  03/01/15  shot and Tasered     unarmed  23.0   \n",
              "3   8     Matthew Hoffman  04/01/15              shot  toy weapon  32.0   \n",
              "4   9   Michael Rodriguez  04/01/15              shot    nail gun  39.0   \n",
              "\n",
              "  gender race           city state  signs_of_mental_illness threat_level  \\\n",
              "0      M    A        Shelton    WA                     True       attack   \n",
              "1      M    W          Aloha    OR                    False       attack   \n",
              "2      M    H        Wichita    KS                    False        other   \n",
              "3      M    W  San Francisco    CA                     True       attack   \n",
              "4      M    H          Evans    CO                    False       attack   \n",
              "\n",
              "          flee  body_camera  age_cat  \n",
              "0  Not fleeing        False  above25  \n",
              "1  Not fleeing        False  above25  \n",
              "2  Not fleeing        False  below25  \n",
              "3  Not fleeing        False  above25  \n",
              "4  Not fleeing        False  above25  "
            ]
          },
          "execution_count": 77,
          "metadata": {},
          "output_type": "execute_result"
        }
      ],
      "source": [
        "kill.head()"
      ]
    },
    {
      "cell_type": "code",
      "execution_count": 78,
      "metadata": {
        "_uuid": "73ef9a67518196c14338e28236b5054186fabdc1",
        "colab": {
          "base_uri": "https://localhost:8080/"
        },
        "id": "_ZPh_aCz-l5F",
        "outputId": "645b4489-e3ee-4ad9-a842-df8653bec3ce"
      },
      "outputs": [
        {
          "data": {
            "text/plain": [
              "Index(['W', 'B', 'H', nan, 'A', 'N', 'O'], dtype='object')"
            ]
          },
          "execution_count": 78,
          "metadata": {},
          "output_type": "execute_result"
        }
      ],
      "source": [
        "# kill.race.unique()\n",
        "kill.race.value_counts(dropna=False).index"
      ]
    },
    {
      "cell_type": "code",
      "execution_count": 79,
      "metadata": {
        "colab": {
          "base_uri": "https://localhost:8080/"
        },
        "id": "j9c0lHlJRHqJ",
        "outputId": "f2f83c90-95f8-4ab8-fb13-a29988acdc45"
      },
      "outputs": [
        {
          "data": {
            "text/plain": [
              "W      1201\n",
              "B       618\n",
              "H       423\n",
              "NaN     195\n",
              "A        39\n",
              "N        31\n",
              "O        28\n",
              "Name: race, dtype: int64"
            ]
          },
          "execution_count": 79,
          "metadata": {},
          "output_type": "execute_result"
        }
      ],
      "source": [
        "kill.race.value_counts(dropna=False)"
      ]
    },
    {
      "cell_type": "markdown",
      "metadata": {
        "id": "VuWSIYCm-l5F"
      },
      "source": [
        "Problem: missing value on race column."
      ]
    },
    {
      "cell_type": "markdown",
      "metadata": {
        "id": "mmCQXFcg-l5G"
      },
      "source": [
        "**INSTRUCTION-1: Drop the all raws that contain missing value (dropna)**"
      ]
    },
    {
      "cell_type": "code",
      "execution_count": 80,
      "metadata": {
        "colab": {
          "base_uri": "https://localhost:8080/"
        },
        "id": "CzwSuxgQ-l5G",
        "outputId": "f2e4c3f4-efb3-49ba-efbf-ed5ab1445ec4"
      },
      "outputs": [
        {
          "data": {
            "text/html": [
              "<div>\n",
              "<style scoped>\n",
              "    .dataframe tbody tr th:only-of-type {\n",
              "        vertical-align: middle;\n",
              "    }\n",
              "\n",
              "    .dataframe tbody tr th {\n",
              "        vertical-align: top;\n",
              "    }\n",
              "\n",
              "    .dataframe thead th {\n",
              "        text-align: right;\n",
              "    }\n",
              "</style>\n",
              "<table border=\"1\" class=\"dataframe\">\n",
              "  <thead>\n",
              "    <tr style=\"text-align: right;\">\n",
              "      <th></th>\n",
              "      <th>id</th>\n",
              "      <th>name</th>\n",
              "      <th>date</th>\n",
              "      <th>manner_of_death</th>\n",
              "      <th>armed</th>\n",
              "      <th>age</th>\n",
              "      <th>gender</th>\n",
              "      <th>race</th>\n",
              "      <th>city</th>\n",
              "      <th>state</th>\n",
              "      <th>signs_of_mental_illness</th>\n",
              "      <th>threat_level</th>\n",
              "      <th>flee</th>\n",
              "      <th>body_camera</th>\n",
              "      <th>age_cat</th>\n",
              "    </tr>\n",
              "  </thead>\n",
              "  <tbody>\n",
              "    <tr>\n",
              "      <th>0</th>\n",
              "      <td>3</td>\n",
              "      <td>Tim Elliot</td>\n",
              "      <td>02/01/15</td>\n",
              "      <td>shot</td>\n",
              "      <td>gun</td>\n",
              "      <td>53.0</td>\n",
              "      <td>M</td>\n",
              "      <td>A</td>\n",
              "      <td>Shelton</td>\n",
              "      <td>WA</td>\n",
              "      <td>True</td>\n",
              "      <td>attack</td>\n",
              "      <td>Not fleeing</td>\n",
              "      <td>False</td>\n",
              "      <td>above25</td>\n",
              "    </tr>\n",
              "    <tr>\n",
              "      <th>1</th>\n",
              "      <td>4</td>\n",
              "      <td>Lewis Lee Lembke</td>\n",
              "      <td>02/01/15</td>\n",
              "      <td>shot</td>\n",
              "      <td>gun</td>\n",
              "      <td>47.0</td>\n",
              "      <td>M</td>\n",
              "      <td>W</td>\n",
              "      <td>Aloha</td>\n",
              "      <td>OR</td>\n",
              "      <td>False</td>\n",
              "      <td>attack</td>\n",
              "      <td>Not fleeing</td>\n",
              "      <td>False</td>\n",
              "      <td>above25</td>\n",
              "    </tr>\n",
              "    <tr>\n",
              "      <th>2</th>\n",
              "      <td>5</td>\n",
              "      <td>John Paul Quintero</td>\n",
              "      <td>03/01/15</td>\n",
              "      <td>shot and Tasered</td>\n",
              "      <td>unarmed</td>\n",
              "      <td>23.0</td>\n",
              "      <td>M</td>\n",
              "      <td>H</td>\n",
              "      <td>Wichita</td>\n",
              "      <td>KS</td>\n",
              "      <td>False</td>\n",
              "      <td>other</td>\n",
              "      <td>Not fleeing</td>\n",
              "      <td>False</td>\n",
              "      <td>below25</td>\n",
              "    </tr>\n",
              "    <tr>\n",
              "      <th>3</th>\n",
              "      <td>8</td>\n",
              "      <td>Matthew Hoffman</td>\n",
              "      <td>04/01/15</td>\n",
              "      <td>shot</td>\n",
              "      <td>toy weapon</td>\n",
              "      <td>32.0</td>\n",
              "      <td>M</td>\n",
              "      <td>W</td>\n",
              "      <td>San Francisco</td>\n",
              "      <td>CA</td>\n",
              "      <td>True</td>\n",
              "      <td>attack</td>\n",
              "      <td>Not fleeing</td>\n",
              "      <td>False</td>\n",
              "      <td>above25</td>\n",
              "    </tr>\n",
              "    <tr>\n",
              "      <th>4</th>\n",
              "      <td>9</td>\n",
              "      <td>Michael Rodriguez</td>\n",
              "      <td>04/01/15</td>\n",
              "      <td>shot</td>\n",
              "      <td>nail gun</td>\n",
              "      <td>39.0</td>\n",
              "      <td>M</td>\n",
              "      <td>H</td>\n",
              "      <td>Evans</td>\n",
              "      <td>CO</td>\n",
              "      <td>False</td>\n",
              "      <td>attack</td>\n",
              "      <td>Not fleeing</td>\n",
              "      <td>False</td>\n",
              "      <td>above25</td>\n",
              "    </tr>\n",
              "    <tr>\n",
              "      <th>...</th>\n",
              "      <td>...</td>\n",
              "      <td>...</td>\n",
              "      <td>...</td>\n",
              "      <td>...</td>\n",
              "      <td>...</td>\n",
              "      <td>...</td>\n",
              "      <td>...</td>\n",
              "      <td>...</td>\n",
              "      <td>...</td>\n",
              "      <td>...</td>\n",
              "      <td>...</td>\n",
              "      <td>...</td>\n",
              "      <td>...</td>\n",
              "      <td>...</td>\n",
              "      <td>...</td>\n",
              "    </tr>\n",
              "    <tr>\n",
              "      <th>2519</th>\n",
              "      <td>2805</td>\n",
              "      <td>Aries Clark</td>\n",
              "      <td>25/07/17</td>\n",
              "      <td>shot</td>\n",
              "      <td>undetermined</td>\n",
              "      <td>16.0</td>\n",
              "      <td>M</td>\n",
              "      <td>B</td>\n",
              "      <td>Marion</td>\n",
              "      <td>AR</td>\n",
              "      <td>False</td>\n",
              "      <td>undetermined</td>\n",
              "      <td>Not fleeing</td>\n",
              "      <td>False</td>\n",
              "      <td>below25</td>\n",
              "    </tr>\n",
              "    <tr>\n",
              "      <th>2523</th>\n",
              "      <td>2808</td>\n",
              "      <td>Kesharn K. Burney</td>\n",
              "      <td>26/07/17</td>\n",
              "      <td>shot</td>\n",
              "      <td>vehicle</td>\n",
              "      <td>25.0</td>\n",
              "      <td>M</td>\n",
              "      <td>B</td>\n",
              "      <td>Dayton</td>\n",
              "      <td>OH</td>\n",
              "      <td>False</td>\n",
              "      <td>attack</td>\n",
              "      <td>Car</td>\n",
              "      <td>False</td>\n",
              "      <td>below25</td>\n",
              "    </tr>\n",
              "    <tr>\n",
              "      <th>2525</th>\n",
              "      <td>2820</td>\n",
              "      <td>Deltra Henderson</td>\n",
              "      <td>27/07/17</td>\n",
              "      <td>shot</td>\n",
              "      <td>gun</td>\n",
              "      <td>39.0</td>\n",
              "      <td>M</td>\n",
              "      <td>B</td>\n",
              "      <td>Homer</td>\n",
              "      <td>LA</td>\n",
              "      <td>False</td>\n",
              "      <td>attack</td>\n",
              "      <td>Car</td>\n",
              "      <td>False</td>\n",
              "      <td>above25</td>\n",
              "    </tr>\n",
              "    <tr>\n",
              "      <th>2533</th>\n",
              "      <td>2817</td>\n",
              "      <td>Isaiah Tucker</td>\n",
              "      <td>31/07/17</td>\n",
              "      <td>shot</td>\n",
              "      <td>vehicle</td>\n",
              "      <td>28.0</td>\n",
              "      <td>M</td>\n",
              "      <td>B</td>\n",
              "      <td>Oshkosh</td>\n",
              "      <td>WI</td>\n",
              "      <td>False</td>\n",
              "      <td>attack</td>\n",
              "      <td>Car</td>\n",
              "      <td>True</td>\n",
              "      <td>above25</td>\n",
              "    </tr>\n",
              "    <tr>\n",
              "      <th>2534</th>\n",
              "      <td>2815</td>\n",
              "      <td>Dwayne Jeune</td>\n",
              "      <td>31/07/17</td>\n",
              "      <td>shot</td>\n",
              "      <td>knife</td>\n",
              "      <td>32.0</td>\n",
              "      <td>M</td>\n",
              "      <td>B</td>\n",
              "      <td>Brooklyn</td>\n",
              "      <td>NY</td>\n",
              "      <td>True</td>\n",
              "      <td>attack</td>\n",
              "      <td>Not fleeing</td>\n",
              "      <td>False</td>\n",
              "      <td>above25</td>\n",
              "    </tr>\n",
              "  </tbody>\n",
              "</table>\n",
              "<p>2254 rows × 15 columns</p>\n",
              "</div>"
            ],
            "text/plain": [
              "        id                name      date   manner_of_death         armed  \\\n",
              "0        3          Tim Elliot  02/01/15              shot           gun   \n",
              "1        4    Lewis Lee Lembke  02/01/15              shot           gun   \n",
              "2        5  John Paul Quintero  03/01/15  shot and Tasered       unarmed   \n",
              "3        8     Matthew Hoffman  04/01/15              shot    toy weapon   \n",
              "4        9   Michael Rodriguez  04/01/15              shot      nail gun   \n",
              "...    ...                 ...       ...               ...           ...   \n",
              "2519  2805         Aries Clark  25/07/17              shot  undetermined   \n",
              "2523  2808   Kesharn K. Burney  26/07/17              shot       vehicle   \n",
              "2525  2820    Deltra Henderson  27/07/17              shot           gun   \n",
              "2533  2817       Isaiah Tucker  31/07/17              shot       vehicle   \n",
              "2534  2815        Dwayne Jeune  31/07/17              shot         knife   \n",
              "\n",
              "       age gender race           city state  signs_of_mental_illness  \\\n",
              "0     53.0      M    A        Shelton    WA                     True   \n",
              "1     47.0      M    W          Aloha    OR                    False   \n",
              "2     23.0      M    H        Wichita    KS                    False   \n",
              "3     32.0      M    W  San Francisco    CA                     True   \n",
              "4     39.0      M    H          Evans    CO                    False   \n",
              "...    ...    ...  ...            ...   ...                      ...   \n",
              "2519  16.0      M    B         Marion    AR                    False   \n",
              "2523  25.0      M    B         Dayton    OH                    False   \n",
              "2525  39.0      M    B          Homer    LA                    False   \n",
              "2533  28.0      M    B        Oshkosh    WI                    False   \n",
              "2534  32.0      M    B       Brooklyn    NY                     True   \n",
              "\n",
              "      threat_level         flee  body_camera  age_cat  \n",
              "0           attack  Not fleeing        False  above25  \n",
              "1           attack  Not fleeing        False  above25  \n",
              "2            other  Not fleeing        False  below25  \n",
              "3           attack  Not fleeing        False  above25  \n",
              "4           attack  Not fleeing        False  above25  \n",
              "...            ...          ...          ...      ...  \n",
              "2519  undetermined  Not fleeing        False  below25  \n",
              "2523        attack          Car        False  below25  \n",
              "2525        attack          Car        False  above25  \n",
              "2533        attack          Car         True  above25  \n",
              "2534        attack  Not fleeing        False  above25  \n",
              "\n",
              "[2254 rows x 15 columns]"
            ]
          },
          "execution_count": 80,
          "metadata": {},
          "output_type": "execute_result"
        }
      ],
      "source": [
        "dr= kill.dropna()\n",
        "dr"
      ]
    },
    {
      "cell_type": "code",
      "execution_count": 81,
      "metadata": {
        "id": "a2-YP0ZBRxK6"
      },
      "outputs": [
        {
          "data": {
            "text/plain": [
              "(2254, 15)"
            ]
          },
          "execution_count": 81,
          "metadata": {},
          "output_type": "execute_result"
        }
      ],
      "source": [
        "dr.shape"
      ]
    },
    {
      "cell_type": "code",
      "execution_count": null,
      "metadata": {
        "colab": {
          "base_uri": "https://localhost:8080/"
        },
        "id": "3DzEkUNo-l5G",
        "outputId": "fe3f08e2-9ffa-40b2-edad-963b7ee8e29d"
      },
      "outputs": [],
      "source": []
    },
    {
      "cell_type": "markdown",
      "metadata": {
        "id": "DRb2AH84-l5G"
      },
      "source": [
        "**INSTRUCTION-2: Demonstrate Race Ratio of Killed People by a Pie Chart (You can use Matplotlib)**"
      ]
    },
    {
      "cell_type": "code",
      "execution_count": 82,
      "metadata": {
        "colab": {
          "base_uri": "https://localhost:8080/"
        },
        "id": "YuqdvlMmR6sp",
        "outputId": "507e58d8-b3ff-4eb3-901b-915982bdd948"
      },
      "outputs": [
        {
          "data": {
            "text/plain": [
              "W    1168\n",
              "B     592\n",
              "H     401\n",
              "A      36\n",
              "N      29\n",
              "O      28\n",
              "Name: race, dtype: int64"
            ]
          },
          "execution_count": 82,
          "metadata": {},
          "output_type": "execute_result"
        }
      ],
      "source": [
        "dr.race.value_counts(dropna=False)"
      ]
    },
    {
      "cell_type": "code",
      "execution_count": 83,
      "metadata": {
        "colab": {
          "base_uri": "https://localhost:8080/"
        },
        "id": "HY06Ow0CSiMj",
        "outputId": "c814922e-1534-489e-bb6f-63460e21675d"
      },
      "outputs": [
        {
          "data": {
            "text/plain": [
              "Index(['W', 'B', 'H', 'A', 'N', 'O'], dtype='object')"
            ]
          },
          "execution_count": 83,
          "metadata": {},
          "output_type": "execute_result"
        }
      ],
      "source": [
        "dr.race.value_counts().index"
      ]
    },
    {
      "cell_type": "code",
      "execution_count": 84,
      "metadata": {
        "colab": {
          "base_uri": "https://localhost:8080/"
        },
        "id": "o7HLqqxeSwhR",
        "outputId": "868763f4-e37a-4a80-a827-8f60a6d1b1d1"
      },
      "outputs": [
        {
          "data": {
            "text/plain": [
              "array([1168,  592,  401,   36,   29,   28], dtype=int64)"
            ]
          },
          "execution_count": 84,
          "metadata": {},
          "output_type": "execute_result"
        }
      ],
      "source": [
        "dr.race.value_counts().values"
      ]
    },
    {
      "cell_type": "code",
      "execution_count": 87,
      "metadata": {
        "colab": {
          "base_uri": "https://localhost:8080/",
          "height": 466
        },
        "id": "HlwYfDC7TLxx",
        "outputId": "7ec16226-8da4-4a89-bea1-fff5497c4cd7"
      },
      "outputs": [
        {
          "data": {
            "image/png": "[encoded data removed]",
            "text/plain": [
              "<Figure size 720x576 with 1 Axes>"
            ]
          },
          "metadata": {},
          "output_type": "display_data"
        }
      ],
      "source": [
        "plt.figure(figsize=(10, 8))\n",
        "\n",
        "m = dr.race.value_counts().values\n",
        "mylabels = dr.race.value_counts().index\n",
        "\n",
        "myexplode = [0, 0 , 0.1, 0, 0, 0]\n",
        "\n",
        "plt.pie(m, labels = mylabels, explode=myexplode, labeldistance=1.1, autopct=\"%.1f\", startangle=90)\n",
        "# plt.legend()\n",
        "plt.tight_layout\n",
        "plt.show()"
      ]
    },
    {
      "cell_type": "code",
      "execution_count": 88,
      "metadata": {
        "colab": {
          "base_uri": "https://localhost:8080/"
        },
        "id": "mvezNl4jUvc2",
        "outputId": "4b20d08e-89cc-4469-d461-07a6115bbbc6"
      },
      "outputs": [
        {
          "data": {
            "text/plain": [
              "Index(['W', 'B', 'H', 'A', 'N', 'O'], dtype='object')"
            ]
          },
          "execution_count": 88,
          "metadata": {},
          "output_type": "execute_result"
        }
      ],
      "source": [
        "mylabels"
      ]
    }
  ],
  "metadata": {
    "colab": {
      "collapsed_sections": [],
      "name": "Assignment_1_student_1290.ipynb",
      "provenance": []
    },
    "kernelspec": {
      "display_name": "Python 3",
      "language": "python",
      "name": "python3"
    },
    "language_info": {
      "codemirror_mode": {
        "name": "ipython",
        "version": 3
      },
      "file_extension": ".py",
      "mimetype": "text/x-python",
      "name": "python",
      "nbconvert_exporter": "python",
      "pygments_lexer": "ipython3",
      "version": "3.8.2"
    }
  },
  "nbformat": 4,
  "nbformat_minor": 0
}
